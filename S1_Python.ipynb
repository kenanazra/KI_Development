{
 "cells": [
  {
   "cell_type": "markdown",
   "metadata": {
    "id": "e169VtCkzw43"
   },
   "source": [
    "# Data Containers"
   ]
  },
  {
   "cell_type": "markdown",
   "metadata": {
    "id": "ypOAmJMsn-KM"
   },
   "source": [
    "## **Lists**"
   ]
  },
  {
   "cell_type": "code",
   "execution_count": 5,
   "metadata": {
    "id": "Hhq3sHyjn86M"
   },
   "outputs": [],
   "source": [
    "fruits = [\"apple\", \"banana\", \"cherry\"]"
   ]
  },
  {
   "cell_type": "markdown",
   "metadata": {
    "id": "OsDLo4jFoC2s"
   },
   "source": [
    "**Operations**"
   ]
  },
  {
   "cell_type": "markdown",
   "metadata": {
    "id": "cBcY4LkXoFg7"
   },
   "source": [
    "Indexing"
   ]
  },
  {
   "cell_type": "code",
   "execution_count": 7,
   "metadata": {
    "colab": {
     "base_uri": "https://localhost:8080/"
    },
    "id": "MrqIhxLQn93V",
    "outputId": "f675dc7a-cc9f-4aa5-8a77-97ca9fcc48cb"
   },
   "outputs": [
    {
     "name": "stdout",
     "output_type": "stream",
     "text": [
      "apple\n"
     ]
    }
   ],
   "source": [
    "print(fruits[0])  # Output: apple"
   ]
  },
  {
   "cell_type": "markdown",
   "metadata": {
    "id": "7OsGGsimoIQ2"
   },
   "source": [
    "Slicing"
   ]
  },
  {
   "cell_type": "code",
   "execution_count": 9,
   "metadata": {
    "colab": {
     "base_uri": "https://localhost:8080/"
    },
    "id": "ml9TsFz3oGwM",
    "outputId": "a728e027-c7ba-4d44-b3d2-74cbb3debd9d"
   },
   "outputs": [
    {
     "name": "stdout",
     "output_type": "stream",
     "text": [
      "['apple', 'banana']\n"
     ]
    }
   ],
   "source": [
    "print(fruits[0:2])  # Output: ['apple', 'banana']"
   ]
  },
  {
   "cell_type": "markdown",
   "metadata": {
    "id": "tvsApzS0oME8"
   },
   "source": [
    "Adding Elements"
   ]
  },
  {
   "cell_type": "code",
   "execution_count": 11,
   "metadata": {
    "id": "yTJi995poJtE"
   },
   "outputs": [
    {
     "name": "stdout",
     "output_type": "stream",
     "text": [
      "['apple', 'banana', 'cherry', 'orange']\n",
      "['apple', 'mango', 'banana', 'cherry', 'orange']\n"
     ]
    }
   ],
   "source": [
    "fruits.append(\"orange\")\n",
    "print(fruits)\n",
    "fruits.insert(1, \"mango\")\n",
    "print(fruits)"
   ]
  },
  {
   "cell_type": "markdown",
   "metadata": {
    "id": "rv09Ti7eoO0b"
   },
   "source": [
    "Removing Elements"
   ]
  },
  {
   "cell_type": "code",
   "execution_count": 13,
   "metadata": {
    "colab": {
     "base_uri": "https://localhost:8080/",
     "height": 35
    },
    "id": "Xi6NBSAWoNSW",
    "outputId": "abbba6bc-6838-45fd-b957-b33755227163"
   },
   "outputs": [
    {
     "name": "stdout",
     "output_type": "stream",
     "text": [
      "['apple', 'mango', 'cherry', 'orange']\n",
      "['apple', 'mango', 'orange']\n"
     ]
    }
   ],
   "source": [
    "fruits.remove(\"banana\")\n",
    "print(fruits)\n",
    "fruits.pop(2)\n",
    "print(fruits)"
   ]
  },
  {
   "cell_type": "markdown",
   "metadata": {
    "id": "0p6Jncqgq9cW"
   },
   "source": [
    "## Tuples"
   ]
  },
  {
   "cell_type": "code",
   "execution_count": 15,
   "metadata": {
    "id": "RtShV6ZVq84T"
   },
   "outputs": [],
   "source": [
    "coordinates = (10, 20)"
   ]
  },
  {
   "cell_type": "markdown",
   "metadata": {
    "id": "t7MI9LAgrNfy"
   },
   "source": [
    "Indexing and Slicing: Similar to lists."
   ]
  },
  {
   "cell_type": "code",
   "execution_count": 17,
   "metadata": {
    "colab": {
     "base_uri": "https://localhost:8080/"
    },
    "id": "MKKYgX5yrLuM",
    "outputId": "3e2a9778-c205-4d0f-fdac-1a9e7a0a5df1"
   },
   "outputs": [
    {
     "name": "stdout",
     "output_type": "stream",
     "text": [
      "10\n"
     ]
    }
   ],
   "source": [
    "print(coordinates[0])  # Output: 10"
   ]
  },
  {
   "cell_type": "markdown",
   "metadata": {
    "id": "SgsOYkstsK2K"
   },
   "source": [
    "## Sets"
   ]
  },
  {
   "cell_type": "code",
   "execution_count": 19,
   "metadata": {
    "id": "HaXnUErdsKjc"
   },
   "outputs": [],
   "source": [
    "unique_numbers = {1, 2, 3, 4}"
   ]
  },
  {
   "cell_type": "markdown",
   "metadata": {
    "id": "jF-FHJmNsOzQ"
   },
   "source": [
    "Adding Elements: Use add()"
   ]
  },
  {
   "cell_type": "code",
   "execution_count": 21,
   "metadata": {
    "id": "rWTAhay1sPKH"
   },
   "outputs": [],
   "source": [
    "unique_numbers.add(5)"
   ]
  },
  {
   "cell_type": "code",
   "execution_count": 23,
   "metadata": {
    "id": "nBCUJSZVsQvI"
   },
   "outputs": [
    {
     "name": "stdout",
     "output_type": "stream",
     "text": [
      "{1, 2, 3, 4, 5}\n"
     ]
    }
   ],
   "source": [
    "print(unique_numbers)"
   ]
  },
  {
   "cell_type": "markdown",
   "metadata": {
    "id": "yAWtaf06sSsl"
   },
   "source": [
    "Removing Elements: Use remove() or discard().\n"
   ]
  },
  {
   "cell_type": "code",
   "execution_count": 25,
   "metadata": {
    "id": "A5ssuKGLsSng"
   },
   "outputs": [
    {
     "name": "stdout",
     "output_type": "stream",
     "text": [
      "{1, 3, 4, 5}\n"
     ]
    }
   ],
   "source": [
    "unique_numbers.remove(2)\n",
    "print(unique_numbers)"
   ]
  },
  {
   "cell_type": "markdown",
   "metadata": {
    "id": "Lv-1LEDisXF9"
   },
   "source": [
    "Set Operations: Union, intersection, difference.\n"
   ]
  },
  {
   "cell_type": "code",
   "execution_count": 27,
   "metadata": {
    "colab": {
     "base_uri": "https://localhost:8080/"
    },
    "id": "GMHws2W9sUCw",
    "outputId": "1db312c7-bea6-4253-8a24-e7452f5dcf4d"
   },
   "outputs": [
    {
     "name": "stdout",
     "output_type": "stream",
     "text": [
      "{1, 2, 3, 4, 5}\n",
      "{3}\n",
      "{1, 2}\n"
     ]
    }
   ],
   "source": [
    "set_a = {1, 2, 3}\n",
    "set_b = {3, 4, 5}\n",
    "print(set_a | set_b)  # Union: {1, 2, 3, 4, 5}\n",
    "print(set_a & set_b)  # Intersection: {3}\n",
    "print(set_a - set_b)  # Difference: {1, 2}"
   ]
  },
  {
   "cell_type": "markdown",
   "metadata": {
    "id": "ijzaboJBtEDf"
   },
   "source": [
    "## Dictionaries"
   ]
  },
  {
   "cell_type": "code",
   "execution_count": 29,
   "metadata": {
    "id": "CzDrj1F5sYsW"
   },
   "outputs": [],
   "source": [
    "student = {\"name\": \"Alice\", \"age\": 20, \"courses\": [\"Math\", \"Science\"]}"
   ]
  },
  {
   "cell_type": "markdown",
   "metadata": {
    "id": "2168nUfOtJYJ"
   },
   "source": [
    "Accessing Values: Use keys."
   ]
  },
  {
   "cell_type": "code",
   "execution_count": 31,
   "metadata": {
    "colab": {
     "base_uri": "https://localhost:8080/"
    },
    "id": "yAcJ4aTEtGxI",
    "outputId": "ccbcc680-c4e6-4a45-e7f5-e861c99cc7f8"
   },
   "outputs": [
    {
     "name": "stdout",
     "output_type": "stream",
     "text": [
      "Alice\n"
     ]
    }
   ],
   "source": [
    "print(student[\"name\"])  # Output: Alice"
   ]
  },
  {
   "cell_type": "markdown",
   "metadata": {
    "id": "QyStJtWstMEY"
   },
   "source": [
    "Adding/Updating: Assign a value to a key."
   ]
  },
  {
   "cell_type": "code",
   "execution_count": 33,
   "metadata": {
    "id": "x-kLE-6btKeH"
   },
   "outputs": [],
   "source": [
    "student[\"age\"] = 21\n",
    "student[\"grade\"] = \"A\""
   ]
  },
  {
   "cell_type": "markdown",
   "metadata": {
    "id": "ow6u_5r7tO_r"
   },
   "source": [
    "Removing Items: Use pop() to remove a key-value pair.\n"
   ]
  },
  {
   "cell_type": "code",
   "execution_count": 35,
   "metadata": {
    "colab": {
     "base_uri": "https://localhost:8080/"
    },
    "id": "biyc6L7ttNrO",
    "outputId": "805c509f-82ff-470f-f290-ca1b0fa273d0"
   },
   "outputs": [
    {
     "data": {
      "text/plain": [
       "21"
      ]
     },
     "execution_count": 35,
     "metadata": {},
     "output_type": "execute_result"
    }
   ],
   "source": [
    "student.pop(\"age\")"
   ]
  },
  {
   "cell_type": "markdown",
   "metadata": {
    "id": "c6Ft7y42zqe7"
   },
   "source": [
    "# Control flow"
   ]
  },
  {
   "cell_type": "markdown",
   "metadata": {
    "id": "TXqaO6n1z4n_"
   },
   "source": [
    "## If Statements"
   ]
  },
  {
   "cell_type": "code",
   "execution_count": null,
   "metadata": {
    "colab": {
     "base_uri": "https://localhost:8080/"
    },
    "id": "R8XQjYDxzp_1",
    "outputId": "8478e750-9cfe-4dae-97ac-e37e77a1b19c"
   },
   "outputs": [],
   "source": [
    "number = 5\n",
    "if number > 0:\n",
    "    print(\"The number is positive.\")"
   ]
  },
  {
   "cell_type": "markdown",
   "metadata": {
    "id": "leHy4blBz8bK"
   },
   "source": [
    "Check String Length:"
   ]
  },
  {
   "cell_type": "code",
   "execution_count": null,
   "metadata": {
    "colab": {
     "base_uri": "https://localhost:8080/"
    },
    "id": "qJSCQXOjz8r2",
    "outputId": "7dbb9146-6783-4511-c901-5087ede6abff"
   },
   "outputs": [],
   "source": [
    "name = \"Alice\"\n",
    "if len(name) > 3:\n",
    "    print(\"The name is longer than 3 characters.\")"
   ]
  },
  {
   "cell_type": "markdown",
   "metadata": {
    "id": "LmaZjDd70BmT"
   },
   "source": [
    "Check Membership in List"
   ]
  },
  {
   "cell_type": "code",
   "execution_count": null,
   "metadata": {
    "colab": {
     "base_uri": "https://localhost:8080/"
    },
    "id": "k524imHA0Bwu",
    "outputId": "e8bb23d0-a2ba-4ea5-f696-530359e86201"
   },
   "outputs": [],
   "source": [
    "fruits = [\"apple\", \"banana\", \"cherry\"]\n",
    "if \"banana\" in fruits:\n",
    "    print(\"Banana is in the list.\")"
   ]
  },
  {
   "cell_type": "markdown",
   "metadata": {
    "id": "1i56Wlsa0FHR"
   },
   "source": [
    "Check if Variable is Not None:"
   ]
  },
  {
   "cell_type": "code",
   "execution_count": null,
   "metadata": {
    "colab": {
     "base_uri": "https://localhost:8080/"
    },
    "id": "c_9B6h_uz_cg",
    "outputId": "46cb7d80-df17-4526-8469-bcda4d6dc234"
   },
   "outputs": [],
   "source": [
    "result = None\n",
    "if result is None:\n",
    "    print(\"Result is not set yet.\")"
   ]
  },
  {
   "cell_type": "markdown",
   "metadata": {
    "id": "D1jhjSzG0Klh"
   },
   "source": [
    "## If-Else Statements"
   ]
  },
  {
   "cell_type": "markdown",
   "metadata": {
    "id": "c1aoGfzF0QYX"
   },
   "source": [
    "Check Even or Odd Number"
   ]
  },
  {
   "cell_type": "code",
   "execution_count": null,
   "metadata": {
    "colab": {
     "base_uri": "https://localhost:8080/"
    },
    "id": "iMBR34EU0GII",
    "outputId": "3d552183-6fb8-4f30-ef51-12d8787b5a90"
   },
   "outputs": [],
   "source": [
    "number = 4\n",
    "if number % 2 == 0:\n",
    "    print(\"Even number\")\n",
    "else:\n",
    "    print(\"Odd number\")"
   ]
  },
  {
   "cell_type": "markdown",
   "metadata": {
    "id": "vKYqKVo30SxB"
   },
   "source": [
    "Age Verification"
   ]
  },
  {
   "cell_type": "code",
   "execution_count": null,
   "metadata": {
    "colab": {
     "base_uri": "https://localhost:8080/"
    },
    "id": "vPmyr3MC0Ray",
    "outputId": "8607c89c-5515-4347-fa8a-a9fb0525f06a"
   },
   "outputs": [],
   "source": [
    "age = 17\n",
    "if age >= 18:\n",
    "    print(\"You are eligible to vote.\")\n",
    "else:\n",
    "    print(\"You are not eligible to vote.\")"
   ]
  },
  {
   "cell_type": "markdown",
   "metadata": {
    "id": "Y1gYcvNk0Vg4"
   },
   "source": [
    "Check for Empty List:"
   ]
  },
  {
   "cell_type": "code",
   "execution_count": 41,
   "metadata": {
    "colab": {
     "base_uri": "https://localhost:8080/"
    },
    "id": "3HBfnZFL0T9S",
    "outputId": "d1f8da92-c7a0-4634-f253-edba45c2cf7a"
   },
   "outputs": [
    {
     "name": "stdout",
     "output_type": "stream",
     "text": [
      "The list is empty.\n"
     ]
    }
   ],
   "source": [
    "items = []\n",
    "if items:\n",
    "    print(\"The list is not empty.\")\n",
    "else:\n",
    "    print(\"The list is empty.\")"
   ]
  },
  {
   "cell_type": "markdown",
   "metadata": {
    "id": "vbvpZ8CB0YKn"
   },
   "source": [
    "Temperature Check:"
   ]
  },
  {
   "cell_type": "code",
   "execution_count": null,
   "metadata": {
    "colab": {
     "base_uri": "https://localhost:8080/"
    },
    "id": "5PX1A16o0WzY",
    "outputId": "21b579f3-d3eb-4941-ab6f-f18d7739fce6"
   },
   "outputs": [],
   "source": [
    "temperature = 15\n",
    "if temperature > 20:\n",
    "    print(\"It's warm outside.\")\n",
    "else:\n",
    "    print(\"It's cold outside.\")"
   ]
  },
  {
   "cell_type": "markdown",
   "metadata": {
    "id": "wnsKtXY_0a-z"
   },
   "source": [
    "## If-Elif-Else Statements"
   ]
  },
  {
   "cell_type": "markdown",
   "metadata": {
    "id": "RKfqpFES0c78"
   },
   "source": [
    "Grading System"
   ]
  },
  {
   "cell_type": "code",
   "execution_count": null,
   "metadata": {
    "colab": {
     "base_uri": "https://localhost:8080/"
    },
    "id": "o_PMyFNv0ZMo",
    "outputId": "8aaf87d0-9c4c-4fca-d2e7-645b3df63d0b"
   },
   "outputs": [],
   "source": [
    "score = 72\n",
    "if score >= 90:\n",
    "    print(\"Grade A\")\n",
    "elif score >= 80:\n",
    "    print(\"Grade B\")\n",
    "elif score >= 70:\n",
    "    print(\"Grade C\")\n",
    "else:\n",
    "    print(\"Grade D\")"
   ]
  },
  {
   "cell_type": "markdown",
   "metadata": {
    "id": "b3AEMEpa0f2H"
   },
   "source": [
    "Traffic Light Signal"
   ]
  },
  {
   "cell_type": "code",
   "execution_count": null,
   "metadata": {
    "colab": {
     "base_uri": "https://localhost:8080/"
    },
    "id": "PfBJkqgP0fte",
    "outputId": "0612ad3f-ebfc-4c06-b6f3-47938cc741c1"
   },
   "outputs": [],
   "source": [
    "traffic_light = \"yellow\"\n",
    "if traffic_light == \"red\":\n",
    "    print(\"Stop\")\n",
    "elif traffic_light == \"yellow\":\n",
    "    print(\"Slow down\")\n",
    "elif traffic_light == \"green\":\n",
    "    print(\"Go\")\n",
    "else:\n",
    "    print(\"Invalid signal\")"
   ]
  },
  {
   "cell_type": "markdown",
   "metadata": {
    "id": "5o7eorDC0jIN"
   },
   "source": [
    "Classify Age Group"
   ]
  },
  {
   "cell_type": "code",
   "execution_count": null,
   "metadata": {
    "colab": {
     "base_uri": "https://localhost:8080/"
    },
    "id": "hKRD-l850eTo",
    "outputId": "4bba5aea-a9bf-4687-fba6-3ab09baf8257"
   },
   "outputs": [],
   "source": [
    "age = 35\n",
    "if age < 13:\n",
    "    print(\"Child\")\n",
    "elif age < 18:\n",
    "    print(\"Teenager\")\n",
    "elif age < 65:\n",
    "    print(\"Adult\")\n",
    "else:\n",
    "    print(\"Senior\")"
   ]
  },
  {
   "cell_type": "markdown",
   "metadata": {
    "id": "g1ce4jJd0lXN"
   },
   "source": [
    "Check Temperature Range"
   ]
  },
  {
   "cell_type": "code",
   "execution_count": null,
   "metadata": {
    "colab": {
     "base_uri": "https://localhost:8080/"
    },
    "id": "kOm_upTP0kB0",
    "outputId": "a3697376-9fbc-4acc-b61a-34aebda13da0"
   },
   "outputs": [],
   "source": [
    "temperature = 30\n",
    "if temperature < 0:\n",
    "    print(\"Freezing\")\n",
    "elif temperature <= 20:\n",
    "    print(\"Cold\")\n",
    "elif temperature <= 30:\n",
    "    print(\"Warm\")\n",
    "else:\n",
    "    print(\"Hot\")"
   ]
  },
  {
   "cell_type": "markdown",
   "metadata": {
    "id": "FZ76HSBW0n__"
   },
   "source": [
    "## Nested If Statements"
   ]
  },
  {
   "cell_type": "markdown",
   "metadata": {
    "id": "9h8fiLwr0p0s"
   },
   "source": [
    "Permission Check with Age"
   ]
  },
  {
   "cell_type": "code",
   "execution_count": null,
   "metadata": {
    "colab": {
     "base_uri": "https://localhost:8080/"
    },
    "id": "GxmUPGp40mdY",
    "outputId": "fa7b9c35-9c01-467c-f17e-dc6371c566ca"
   },
   "outputs": [],
   "source": [
    "age = 17\n",
    "has_permission = True\n",
    "if age < 18:\n",
    "    if has_permission:\n",
    "        print(\"You can enter with permission.\")\n",
    "    else:\n",
    "        print(\"You cannot enter.\")\n",
    "else:\n",
    "    print(\"You are allowed to enter.\")"
   ]
  },
  {
   "cell_type": "markdown",
   "metadata": {
    "id": "riT_P3Vv0sUw"
   },
   "source": [
    "Nested Condition for Shopping"
   ]
  },
  {
   "cell_type": "code",
   "execution_count": null,
   "metadata": {
    "colab": {
     "base_uri": "https://localhost:8080/"
    },
    "id": "Ir9MC29Y0q3o",
    "outputId": "26a26f78-b742-4598-fd1d-bdcc7acd3bd5"
   },
   "outputs": [],
   "source": [
    "has_discount = True\n",
    "is_member = False\n",
    "if has_discount:\n",
    "    if is_member:\n",
    "        print(\"You get a 20% discount.\")\n",
    "    else:\n",
    "        print(\"You get a 10% discount.\")\n",
    "else:\n",
    "    print(\"No discount available.\")"
   ]
  },
  {
   "cell_type": "markdown",
   "metadata": {
    "id": "ww-f3ZBT0uZK"
   },
   "source": [
    "Nested Temperature and Time Check"
   ]
  },
  {
   "cell_type": "code",
   "execution_count": null,
   "metadata": {
    "colab": {
     "base_uri": "https://localhost:8080/"
    },
    "id": "y4v-UrIV0tM8",
    "outputId": "21909256-5a5f-4dc3-a5b7-ca0acc262180"
   },
   "outputs": [],
   "source": [
    "temperature = 22\n",
    "time_of_day = \"morning\"\n",
    "if temperature > 20:\n",
    "    if time_of_day == \"morning\":\n",
    "        print(\"It's warm and morning time.\")\n",
    "    else:\n",
    "        print(\"It's warm but not morning.\")\n",
    "else:\n",
    "    print(\"It's cold.\")"
   ]
  },
  {
   "cell_type": "markdown",
   "metadata": {
    "id": "tYIt8Gbg0xC3"
   },
   "source": [
    "Bank Account Balance Check"
   ]
  },
  {
   "cell_type": "code",
   "execution_count": null,
   "metadata": {
    "colab": {
     "base_uri": "https://localhost:8080/"
    },
    "id": "mGPgBFQS0vjk",
    "outputId": "a508f435-212a-487c-b0f1-a61849fa3e57"
   },
   "outputs": [],
   "source": [
    "balance = 500\n",
    "withdraw_amount = 300\n",
    "if balance >= withdraw_amount:\n",
    "    if withdraw_amount > 0:\n",
    "        print(\"Transaction successful.\")\n",
    "    else:\n",
    "        print(\"Invalid amount to withdraw.\")\n",
    "else:\n",
    "    print(\"Insufficient funds.\")"
   ]
  }
 ],
 "metadata": {
  "colab": {
   "collapsed_sections": [
    "e169VtCkzw43",
    "ypOAmJMsn-KM",
    "0p6Jncqgq9cW",
    "SgsOYkstsK2K",
    "ijzaboJBtEDf",
    "c6Ft7y42zqe7",
    "TXqaO6n1z4n_",
    "D1jhjSzG0Klh",
    "wnsKtXY_0a-z",
    "FZ76HSBW0n__"
   ],
   "provenance": []
  },
  "kernelspec": {
   "display_name": "Python [conda env:base] *",
   "language": "python",
   "name": "conda-base-py"
  },
  "language_info": {
   "codemirror_mode": {
    "name": "ipython",
    "version": 3
   },
   "file_extension": ".py",
   "mimetype": "text/x-python",
   "name": "python",
   "nbconvert_exporter": "python",
   "pygments_lexer": "ipython3",
   "version": "3.12.7"
  }
 },
 "nbformat": 4,
 "nbformat_minor": 4
}
